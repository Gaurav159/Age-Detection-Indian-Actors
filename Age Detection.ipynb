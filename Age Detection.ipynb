{
 "cells": [
  {
   "cell_type": "code",
   "execution_count": 73,
   "metadata": {},
   "outputs": [],
   "source": [
    "import numpy as np\n",
    "import pandas as pd\n",
    "import matplotlib.pyplot as plt\n",
    "import os\n",
    "import random\n",
    "import cv2"
   ]
  },
  {
   "cell_type": "code",
   "execution_count": 75,
   "metadata": {},
   "outputs": [
    {
     "data": {
      "text/plain": [
       "'C:\\\\Users\\\\gaura\\\\Deep Learning & AI'"
      ]
     },
     "execution_count": 75,
     "metadata": {},
     "output_type": "execute_result"
    }
   ],
   "source": [
    "root_dir"
   ]
  },
  {
   "cell_type": "code",
   "execution_count": 76,
   "metadata": {},
   "outputs": [],
   "source": [
    "train=pd.read_csv(\"train.csv\")\n",
    "test_csv = pd.read_csv(\"test.csv\")"
   ]
  },
  {
   "cell_type": "code",
   "execution_count": 77,
   "metadata": {},
   "outputs": [
    {
     "data": {
      "text/html": [
       "<div>\n",
       "<style scoped>\n",
       "    .dataframe tbody tr th:only-of-type {\n",
       "        vertical-align: middle;\n",
       "    }\n",
       "\n",
       "    .dataframe tbody tr th {\n",
       "        vertical-align: top;\n",
       "    }\n",
       "\n",
       "    .dataframe thead th {\n",
       "        text-align: right;\n",
       "    }\n",
       "</style>\n",
       "<table border=\"1\" class=\"dataframe\">\n",
       "  <thead>\n",
       "    <tr style=\"text-align: right;\">\n",
       "      <th></th>\n",
       "      <th>ID</th>\n",
       "      <th>Class</th>\n",
       "    </tr>\n",
       "  </thead>\n",
       "  <tbody>\n",
       "    <tr>\n",
       "      <th>0</th>\n",
       "      <td>377.jpg</td>\n",
       "      <td>MIDDLE</td>\n",
       "    </tr>\n",
       "    <tr>\n",
       "      <th>1</th>\n",
       "      <td>17814.jpg</td>\n",
       "      <td>YOUNG</td>\n",
       "    </tr>\n",
       "    <tr>\n",
       "      <th>2</th>\n",
       "      <td>21283.jpg</td>\n",
       "      <td>MIDDLE</td>\n",
       "    </tr>\n",
       "    <tr>\n",
       "      <th>3</th>\n",
       "      <td>16496.jpg</td>\n",
       "      <td>YOUNG</td>\n",
       "    </tr>\n",
       "    <tr>\n",
       "      <th>4</th>\n",
       "      <td>4487.jpg</td>\n",
       "      <td>MIDDLE</td>\n",
       "    </tr>\n",
       "  </tbody>\n",
       "</table>\n",
       "</div>"
      ],
      "text/plain": [
       "          ID   Class\n",
       "0    377.jpg  MIDDLE\n",
       "1  17814.jpg   YOUNG\n",
       "2  21283.jpg  MIDDLE\n",
       "3  16496.jpg   YOUNG\n",
       "4   4487.jpg  MIDDLE"
      ]
     },
     "execution_count": 77,
     "metadata": {},
     "output_type": "execute_result"
    }
   ],
   "source": [
    "train.head()"
   ]
  },
  {
   "cell_type": "code",
   "execution_count": 78,
   "metadata": {},
   "outputs": [
    {
     "data": {
      "text/plain": [
       "MIDDLE    10804\n",
       "YOUNG      6706\n",
       "OLD        2396\n",
       "Name: Class, dtype: int64"
      ]
     },
     "execution_count": 78,
     "metadata": {},
     "output_type": "execute_result"
    }
   ],
   "source": [
    "train.Class.value_counts()"
   ]
  },
  {
   "cell_type": "code",
   "execution_count": 79,
   "metadata": {},
   "outputs": [],
   "source": [
    "# setting path for images\n",
    "train_path = root_dir + '/Train/'\n",
    "test_path = root_dir + '/Test/'"
   ]
  },
  {
   "cell_type": "code",
   "execution_count": 80,
   "metadata": {},
   "outputs": [
    {
     "data": {
      "text/plain": [
       "'C:\\\\Users\\\\gaura\\\\Deep Learning & AI/Train/'"
      ]
     },
     "execution_count": 80,
     "metadata": {},
     "output_type": "execute_result"
    }
   ],
   "source": [
    "train_path"
   ]
  },
  {
   "cell_type": "code",
   "execution_count": 81,
   "metadata": {},
   "outputs": [],
   "source": [
    "from PIL import Image\n",
    "from scipy.misc.pilutil import imread"
   ]
  },
  {
   "cell_type": "code",
   "execution_count": 104,
   "metadata": {},
   "outputs": [
    {
     "name": "stdout",
     "output_type": "stream",
     "text": [
      "YOUNG\n"
     ]
    },
    {
     "name": "stderr",
     "output_type": "stream",
     "text": [
      "C:\\Users\\gaura\\Anaconda3\\lib\\site-packages\\ipykernel_launcher.py:4: DeprecationWarning: `imread` is deprecated!\n",
      "`imread` is deprecated in SciPy 1.0.0, and will be removed in 1.2.0.\n",
      "Use ``imageio.imread`` instead.\n",
      "  after removing the cwd from sys.path.\n"
     ]
    }
   ],
   "source": [
    "i = random.choice(train.index)\n",
    "\n",
    "img_name = train.ID[i]\n",
    "img = imread(os.path.join(train_path, img_name))\n",
    "\n",
    "print( train.Class[i])"
   ]
  },
  {
   "cell_type": "code",
   "execution_count": 105,
   "metadata": {},
   "outputs": [
    {
     "data": {
      "text/plain": [
       "<matplotlib.image.AxesImage at 0x185292a48c8>"
      ]
     },
     "execution_count": 105,
     "metadata": {},
     "output_type": "execute_result"
    },
    {
     "data": {
      "image/png": "[encoded data removed]",
      "text/plain": [
       "<Figure size 432x288 with 1 Axes>"
      ]
     },
     "metadata": {
      "needs_background": "light"
     },
     "output_type": "display_data"
    }
   ],
   "source": [
    "plt.imshow(img)"
   ]
  },
  {
   "cell_type": "markdown",
   "metadata": {},
   "source": [
    "In our data there are images of different sizes, shapes with different pixles, so to handle these variations we have to simply resizing the image."
   ]
  },
  {
   "cell_type": "code",
   "execution_count": 88,
   "metadata": {},
   "outputs": [],
   "source": [
    "from scipy.misc import imresize"
   ]
  },
  {
   "cell_type": "code",
   "execution_count": 112,
   "metadata": {},
   "outputs": [
    {
     "name": "stderr",
     "output_type": "stream",
     "text": [
      "C:\\Users\\gaura\\Anaconda3\\lib\\site-packages\\ipykernel_launcher.py:5: DeprecationWarning: `imread` is deprecated!\n",
      "`imread` is deprecated in SciPy 1.0.0, and will be removed in 1.2.0.\n",
      "Use ``imageio.imread`` instead.\n",
      "  \"\"\"\n",
      "C:\\Users\\gaura\\Anaconda3\\lib\\site-packages\\ipykernel_launcher.py:6: DeprecationWarning: `imresize` is deprecated!\n",
      "`imresize` is deprecated in SciPy 1.0.0, and will be removed in 1.2.0.\n",
      "Use ``skimage.transform.resize`` instead.\n",
      "  \n"
     ]
    }
   ],
   "source": [
    "temp = []\n",
    "for img_name in train.ID:\n",
    "    img_path = os.path.join(train_path, img_name)\n",
    "    img = imread(img_path)\n",
    "    img = imresize(img, (64,64))\n",
    "    img = img.astype('float32') \n",
    "    temp.append(img)\n",
    "\n",
    "train_x = np.stack(temp)"
   ]
  },
  {
   "cell_type": "code",
   "execution_count": 113,
   "metadata": {},
   "outputs": [
    {
     "data": {
      "text/plain": [
       "(19906, 64, 64, 3)"
      ]
     },
     "execution_count": 113,
     "metadata": {},
     "output_type": "execute_result"
    }
   ],
   "source": [
    "train_x.shape"
   ]
  },
  {
   "cell_type": "code",
   "execution_count": 114,
   "metadata": {},
   "outputs": [
    {
     "name": "stderr",
     "output_type": "stream",
     "text": [
      "C:\\Users\\gaura\\Anaconda3\\lib\\site-packages\\ipykernel_launcher.py:5: DeprecationWarning: `imread` is deprecated!\n",
      "`imread` is deprecated in SciPy 1.0.0, and will be removed in 1.2.0.\n",
      "Use ``imageio.imread`` instead.\n",
      "  \"\"\"\n",
      "C:\\Users\\gaura\\Anaconda3\\lib\\site-packages\\ipykernel_launcher.py:6: DeprecationWarning: `imresize` is deprecated!\n",
      "`imresize` is deprecated in SciPy 1.0.0, and will be removed in 1.2.0.\n",
      "Use ``skimage.transform.resize`` instead.\n",
      "  \n"
     ]
    }
   ],
   "source": [
    "## Scaling the images for test\n",
    "temp = []\n",
    "for img_name in test.ID:\n",
    "    img_path = os.path.join(test_path, img_name)\n",
    "    img = imread(img_path)\n",
    "    img = imresize(img, (64,64))\n",
    "    temp.append(img.astype('float32'))\n",
    "\n",
    "test_x = np.stack(temp)"
   ]
  },
  {
   "cell_type": "code",
   "execution_count": 115,
   "metadata": {},
   "outputs": [
    {
     "data": {
      "text/plain": [
       "(6636, 64, 64, 3)"
      ]
     },
     "execution_count": 115,
     "metadata": {},
     "output_type": "execute_result"
    }
   ],
   "source": [
    "test_x.shape"
   ]
  },
  {
   "cell_type": "code",
   "execution_count": 116,
   "metadata": {},
   "outputs": [],
   "source": [
    "# Scaling the images \n",
    "train_x = train_x / 255\n",
    "test_x = test_x / 255"
   ]
  },
  {
   "cell_type": "code",
   "execution_count": 117,
   "metadata": {},
   "outputs": [
    {
     "data": {
      "text/plain": [
       "array([[[[0.2       , 0.18431373, 0.1882353 ],\n",
       "         [0.18431373, 0.1764706 , 0.18039216],\n",
       "         [0.17254902, 0.16470589, 0.16862746],\n",
       "         ...,\n",
       "         [0.01568628, 0.04313726, 0.01176471],\n",
       "         [0.02745098, 0.05490196, 0.02352941],\n",
       "         [0.02745098, 0.05490196, 0.02352941]],\n",
       "\n",
       "        [[0.2       , 0.1882353 , 0.19215687],\n",
       "         [0.18431373, 0.1764706 , 0.18039216],\n",
       "         [0.17254902, 0.16470589, 0.16862746],\n",
       "         ...,\n",
       "         [0.03529412, 0.0627451 , 0.03137255],\n",
       "         [0.04705882, 0.07450981, 0.04313726],\n",
       "         [0.04313726, 0.07058824, 0.03921569]],\n",
       "\n",
       "        [[0.21960784, 0.21176471, 0.21568628],\n",
       "         [0.20784314, 0.2       , 0.20392157],\n",
       "         [0.19607843, 0.1882353 , 0.19215687],\n",
       "         ...,\n",
       "         [0.07058824, 0.09411765, 0.0627451 ],\n",
       "         [0.07843138, 0.09803922, 0.07058824],\n",
       "         [0.07450981, 0.09411765, 0.06666667]],\n",
       "\n",
       "        ...,\n",
       "\n",
       "        [[0.48235294, 0.5921569 , 0.54509807],\n",
       "         [0.44705883, 0.5529412 , 0.50980395],\n",
       "         [0.36078432, 0.44705883, 0.40784314],\n",
       "         ...,\n",
       "         [0.3882353 , 0.44705883, 0.4745098 ],\n",
       "         [0.46666667, 0.5254902 , 0.5529412 ],\n",
       "         [0.5254902 , 0.58431375, 0.6117647 ]],\n",
       "\n",
       "        [[0.46666667, 0.5764706 , 0.5294118 ],\n",
       "         [0.43137255, 0.5372549 , 0.49411765],\n",
       "         [0.34901962, 0.43529412, 0.39607844],\n",
       "         ...,\n",
       "         [0.40392157, 0.4627451 , 0.49019608],\n",
       "         [0.48235294, 0.5411765 , 0.5686275 ],\n",
       "         [0.5372549 , 0.59607846, 0.62352943]],\n",
       "\n",
       "        [[0.47058824, 0.5803922 , 0.53333336],\n",
       "         [0.43529412, 0.5411765 , 0.49803922],\n",
       "         [0.34901962, 0.43529412, 0.39607844],\n",
       "         ...,\n",
       "         [0.39607844, 0.45490196, 0.48235294],\n",
       "         [0.4745098 , 0.53333336, 0.56078434],\n",
       "         [0.53333336, 0.5921569 , 0.61960787]]],\n",
       "\n",
       "\n",
       "       [[[0.18431373, 0.11764706, 0.14117648],\n",
       "         [0.18431373, 0.11764706, 0.14117648],\n",
       "         [0.18431373, 0.12156863, 0.13725491],\n",
       "         ...,\n",
       "         [0.13333334, 0.08627451, 0.05490196],\n",
       "         [0.13725491, 0.09411765, 0.05882353],\n",
       "         [0.13725491, 0.09803922, 0.05882353]],\n",
       "\n",
       "        [[0.1764706 , 0.11372549, 0.13333334],\n",
       "         [0.1764706 , 0.11372549, 0.12941177],\n",
       "         [0.1764706 , 0.11372549, 0.12941177],\n",
       "         ...,\n",
       "         [0.13725491, 0.08627451, 0.05490196],\n",
       "         [0.14117648, 0.09803922, 0.0627451 ],\n",
       "         [0.14117648, 0.10196079, 0.0627451 ]],\n",
       "\n",
       "        [[0.16862746, 0.10588235, 0.11764706],\n",
       "         [0.16862746, 0.10588235, 0.11764706],\n",
       "         [0.16470589, 0.10588235, 0.11764706],\n",
       "         ...,\n",
       "         [0.14509805, 0.09019608, 0.05490196],\n",
       "         [0.14117648, 0.09019608, 0.05490196],\n",
       "         [0.14117648, 0.09019608, 0.05490196]],\n",
       "\n",
       "        ...,\n",
       "\n",
       "        [[0.52156866, 0.25882354, 0.20392157],\n",
       "         [0.4745098 , 0.21176471, 0.15686275],\n",
       "         [0.44313726, 0.1764706 , 0.1254902 ],\n",
       "         ...,\n",
       "         [0.22745098, 0.09411765, 0.02745098],\n",
       "         [0.22745098, 0.10196079, 0.04313726],\n",
       "         [0.23137255, 0.10588235, 0.05882353]],\n",
       "\n",
       "        [[0.5686275 , 0.2901961 , 0.24313726],\n",
       "         [0.5529412 , 0.27450982, 0.22745098],\n",
       "         [0.5294118 , 0.2509804 , 0.20392157],\n",
       "         ...,\n",
       "         [0.3372549 , 0.13333334, 0.08235294],\n",
       "         [0.30588236, 0.11764706, 0.07058824],\n",
       "         [0.2901961 , 0.11372549, 0.07058824]],\n",
       "\n",
       "        [[0.57254905, 0.27450982, 0.23529412],\n",
       "         [0.5568628 , 0.25882354, 0.21568628],\n",
       "         [0.5372549 , 0.24313726, 0.2       ],\n",
       "         ...,\n",
       "         [0.45882353, 0.1882353 , 0.14901961],\n",
       "         [0.4117647 , 0.16470589, 0.1254902 ],\n",
       "         [0.3764706 , 0.15294118, 0.11372549]]],\n",
       "\n",
       "\n",
       "       [[[0.16862746, 0.15294118, 0.14901961],\n",
       "         [0.17254902, 0.15294118, 0.14901961],\n",
       "         [0.18039216, 0.15686275, 0.15686275],\n",
       "         ...,\n",
       "         [0.94509804, 0.88235295, 0.7254902 ],\n",
       "         [0.96862745, 0.92156863, 0.7607843 ],\n",
       "         [0.9843137 , 0.9411765 , 0.7764706 ]],\n",
       "\n",
       "        [[0.16078432, 0.14509805, 0.14117648],\n",
       "         [0.16470589, 0.14509805, 0.14117648],\n",
       "         [0.17254902, 0.14901961, 0.14901961],\n",
       "         ...,\n",
       "         [0.99607843, 0.95686275, 0.8       ],\n",
       "         [1.        , 0.9647059 , 0.8039216 ],\n",
       "         [1.        , 0.972549  , 0.80784315]],\n",
       "\n",
       "        [[0.14117648, 0.1254902 , 0.12156863],\n",
       "         [0.14901961, 0.12941177, 0.1254902 ],\n",
       "         [0.15686275, 0.13333334, 0.13333334],\n",
       "         ...,\n",
       "         [1.        , 0.95686275, 0.79607844],\n",
       "         [1.        , 0.9647059 , 0.8       ],\n",
       "         [1.        , 0.9764706 , 0.8039216 ]],\n",
       "\n",
       "        ...,\n",
       "\n",
       "        [[0.20392157, 0.1882353 , 0.15294118],\n",
       "         [0.20392157, 0.1882353 , 0.15294118],\n",
       "         [0.20392157, 0.1882353 , 0.15294118],\n",
       "         ...,\n",
       "         [0.25882354, 0.2901961 , 0.28627452],\n",
       "         [0.27058825, 0.2901961 , 0.2901961 ],\n",
       "         [0.2784314 , 0.2901961 , 0.29411766]],\n",
       "\n",
       "        [[0.2       , 0.1882353 , 0.16862746],\n",
       "         [0.2       , 0.1882353 , 0.16862746],\n",
       "         [0.2       , 0.1882353 , 0.16862746],\n",
       "         ...,\n",
       "         [0.2509804 , 0.27450982, 0.27450982],\n",
       "         [0.25882354, 0.28235295, 0.28235295],\n",
       "         [0.2627451 , 0.28627452, 0.28627452]],\n",
       "\n",
       "        [[0.2       , 0.1882353 , 0.16862746],\n",
       "         [0.2       , 0.1882353 , 0.16862746],\n",
       "         [0.2       , 0.1882353 , 0.16862746],\n",
       "         ...,\n",
       "         [0.24313726, 0.26666668, 0.26666668],\n",
       "         [0.24705882, 0.27058825, 0.27058825],\n",
       "         [0.2509804 , 0.27450982, 0.27450982]]],\n",
       "\n",
       "\n",
       "       ...,\n",
       "\n",
       "\n",
       "       [[[0.06666667, 0.08235294, 0.11764706],\n",
       "         [0.06666667, 0.08235294, 0.11764706],\n",
       "         [0.07058824, 0.08235294, 0.10980392],\n",
       "         ...,\n",
       "         [0.2901961 , 0.09411765, 0.07843138],\n",
       "         [0.34509805, 0.12156863, 0.10980392],\n",
       "         [0.4392157 , 0.18431373, 0.18431373]],\n",
       "\n",
       "        [[0.07058824, 0.08627451, 0.12156863],\n",
       "         [0.07058824, 0.08627451, 0.12156863],\n",
       "         [0.07450981, 0.08627451, 0.11372549],\n",
       "         ...,\n",
       "         [0.32156864, 0.11372549, 0.09019608],\n",
       "         [0.36862746, 0.12941177, 0.11764706],\n",
       "         [0.4627451 , 0.19215687, 0.19215687]],\n",
       "\n",
       "        [[0.07450981, 0.09019608, 0.1254902 ],\n",
       "         [0.07450981, 0.09019608, 0.1254902 ],\n",
       "         [0.07450981, 0.08627451, 0.11764706],\n",
       "         ...,\n",
       "         [0.3647059 , 0.12941177, 0.09803922],\n",
       "         [0.40784314, 0.14117648, 0.12156863],\n",
       "         [0.49803922, 0.20392157, 0.19215687]],\n",
       "\n",
       "        ...,\n",
       "\n",
       "        [[0.5764706 , 0.5254902 , 0.5137255 ],\n",
       "         [0.50980395, 0.45882353, 0.44705883],\n",
       "         [0.40392157, 0.3529412 , 0.34509805],\n",
       "         ...,\n",
       "         [0.84705883, 0.75686276, 0.627451  ],\n",
       "         [0.8392157 , 0.7529412 , 0.61960787],\n",
       "         [0.85490197, 0.77254903, 0.627451  ]],\n",
       "\n",
       "        [[0.5882353 , 0.5294118 , 0.5137255 ],\n",
       "         [0.57254905, 0.5137255 , 0.5019608 ],\n",
       "         [0.49411765, 0.43137255, 0.42745098],\n",
       "         ...,\n",
       "         [0.84313726, 0.75686276, 0.6117647 ],\n",
       "         [0.85490197, 0.76862746, 0.62352943],\n",
       "         [0.8666667 , 0.78039217, 0.6313726 ]],\n",
       "\n",
       "        [[0.59607846, 0.5294118 , 0.5137255 ],\n",
       "         [0.59607846, 0.5294118 , 0.52156866],\n",
       "         [0.5254902 , 0.45882353, 0.4509804 ],\n",
       "         ...,\n",
       "         [0.85490197, 0.76862746, 0.6156863 ],\n",
       "         [0.8627451 , 0.7764706 , 0.62352943],\n",
       "         [0.87058824, 0.78431374, 0.6313726 ]]],\n",
       "\n",
       "\n",
       "       [[[0.06666667, 0.07058824, 0.14117648],\n",
       "         [0.0627451 , 0.06666667, 0.13725491],\n",
       "         [0.04705882, 0.06666667, 0.12941177],\n",
       "         ...,\n",
       "         [0.04705882, 0.04313726, 0.0627451 ],\n",
       "         [0.04705882, 0.04313726, 0.0627451 ],\n",
       "         [0.05098039, 0.04313726, 0.05490196]],\n",
       "\n",
       "        [[0.0627451 , 0.06666667, 0.13725491],\n",
       "         [0.05882353, 0.0627451 , 0.13333334],\n",
       "         [0.04313726, 0.06666667, 0.12941177],\n",
       "         ...,\n",
       "         [0.05098039, 0.04313726, 0.05882353],\n",
       "         [0.04705882, 0.04705882, 0.05490196],\n",
       "         [0.05098039, 0.04313726, 0.05098039]],\n",
       "\n",
       "        [[0.05490196, 0.05882353, 0.12941177],\n",
       "         [0.05098039, 0.05490196, 0.1254902 ],\n",
       "         [0.04313726, 0.0627451 , 0.1254902 ],\n",
       "         ...,\n",
       "         [0.0627451 , 0.04313726, 0.04705882],\n",
       "         [0.05098039, 0.04313726, 0.05098039],\n",
       "         [0.05098039, 0.04313726, 0.04705882]],\n",
       "\n",
       "        ...,\n",
       "\n",
       "        [[0.63529414, 0.39607844, 0.29803923],\n",
       "         [0.62352943, 0.38431373, 0.28627452],\n",
       "         [0.6156863 , 0.36862746, 0.26666668],\n",
       "         ...,\n",
       "         [0.10196079, 0.03921569, 0.03529412],\n",
       "         [0.08627451, 0.04313726, 0.04705882],\n",
       "         [0.07450981, 0.04705882, 0.05490196]],\n",
       "\n",
       "        [[0.6431373 , 0.4117647 , 0.30980393],\n",
       "         [0.6392157 , 0.40392157, 0.3019608 ],\n",
       "         [0.6313726 , 0.39215687, 0.28627452],\n",
       "         ...,\n",
       "         [0.11764706, 0.04313726, 0.04705882],\n",
       "         [0.10588235, 0.04705882, 0.05882353],\n",
       "         [0.10196079, 0.04705882, 0.06666667]],\n",
       "\n",
       "        [[0.6392157 , 0.41568628, 0.30980393],\n",
       "         [0.6431373 , 0.40784314, 0.30588236],\n",
       "         [0.63529414, 0.4       , 0.29411766],\n",
       "         ...,\n",
       "         [0.19607843, 0.11372549, 0.12156863],\n",
       "         [0.1882353 , 0.11764706, 0.13333334],\n",
       "         [0.1882353 , 0.11764706, 0.14117648]]],\n",
       "\n",
       "\n",
       "       [[[0.6156863 , 0.5294118 , 0.47843137],\n",
       "         [0.62352943, 0.54509807, 0.49019608],\n",
       "         [0.627451  , 0.5529412 , 0.49803922],\n",
       "         ...,\n",
       "         [0.09411765, 0.04705882, 0.02352941],\n",
       "         [0.08235294, 0.03921569, 0.02352941],\n",
       "         [0.07450981, 0.03137255, 0.02352941]],\n",
       "\n",
       "        [[0.6313726 , 0.54509807, 0.49411765],\n",
       "         [0.6392157 , 0.56078434, 0.5058824 ],\n",
       "         [0.64705884, 0.57254905, 0.5176471 ],\n",
       "         ...,\n",
       "         [0.09411765, 0.04705882, 0.02352941],\n",
       "         [0.08235294, 0.03921569, 0.02352941],\n",
       "         [0.07450981, 0.03137255, 0.02352941]],\n",
       "\n",
       "        [[0.62352943, 0.5372549 , 0.4862745 ],\n",
       "         [0.6392157 , 0.5568628 , 0.5058824 ],\n",
       "         [0.6509804 , 0.5764706 , 0.52156866],\n",
       "         ...,\n",
       "         [0.09019608, 0.04313726, 0.01960784],\n",
       "         [0.08235294, 0.03921569, 0.02352941],\n",
       "         [0.07450981, 0.03137255, 0.02352941]],\n",
       "\n",
       "        ...,\n",
       "\n",
       "        [[0.43529412, 0.39215687, 0.34509805],\n",
       "         [0.43137255, 0.38431373, 0.33333334],\n",
       "         [0.41568628, 0.36862746, 0.31764707],\n",
       "         ...,\n",
       "         [0.18039216, 0.22352941, 0.19607843],\n",
       "         [0.29803923, 0.3529412 , 0.32941177],\n",
       "         [0.3882353 , 0.45882353, 0.43529412]],\n",
       "\n",
       "        [[0.45490196, 0.40392157, 0.3529412 ],\n",
       "         [0.4509804 , 0.4       , 0.34509805],\n",
       "         [0.4392157 , 0.38431373, 0.33333334],\n",
       "         ...,\n",
       "         [0.28627452, 0.34117648, 0.30980393],\n",
       "         [0.3764706 , 0.44313726, 0.41960785],\n",
       "         [0.44705883, 0.5254902 , 0.49803922]],\n",
       "\n",
       "        [[0.45882353, 0.40392157, 0.3529412 ],\n",
       "         [0.4509804 , 0.39607844, 0.34509805],\n",
       "         [0.4392157 , 0.38039216, 0.3254902 ],\n",
       "         ...,\n",
       "         [0.36078432, 0.41960785, 0.3882353 ],\n",
       "         [0.4392157 , 0.5137255 , 0.4862745 ],\n",
       "         [0.49803922, 0.5803922 , 0.5568628 ]]]], dtype=float32)"
      ]
     },
     "execution_count": 117,
     "metadata": {},
     "output_type": "execute_result"
    }
   ],
   "source": [
    "train_x "
   ]
  },
  {
   "cell_type": "code",
   "execution_count": 118,
   "metadata": {},
   "outputs": [
    {
     "data": {
      "text/plain": [
       "MIDDLE    0.542751\n",
       "YOUNG     0.336883\n",
       "OLD       0.120366\n",
       "Name: Class, dtype: float64"
      ]
     },
     "execution_count": 118,
     "metadata": {},
     "output_type": "execute_result"
    }
   ],
   "source": [
    "train.Class.value_counts(normalize=True)"
   ]
  },
  {
   "cell_type": "code",
   "execution_count": 119,
   "metadata": {},
   "outputs": [],
   "source": [
    "import keras\n",
    "from sklearn.preprocessing import LabelEncoder\n",
    "\n",
    "lb = LabelEncoder()\n",
    "train_y = lb.fit_transform(train.Class)\n",
    "train_y = keras.utils.np_utils.to_categorical(train_y)"
   ]
  },
  {
   "cell_type": "code",
   "execution_count": 120,
   "metadata": {},
   "outputs": [
    {
     "data": {
      "text/plain": [
       "(19906, 3)"
      ]
     },
     "execution_count": 120,
     "metadata": {},
     "output_type": "execute_result"
    }
   ],
   "source": [
    "train_y.shape"
   ]
  },
  {
   "cell_type": "code",
   "execution_count": 121,
   "metadata": {},
   "outputs": [],
   "source": [
    "import keras\n",
    "from keras.layers.convolutional import Conv2D\n",
    "from keras.layers import Dense\n",
    "from keras.layers.convolutional import MaxPooling2D\n",
    "from keras.layers import Flatten\n",
    "from keras.models import Sequential\n"
   ]
  },
  {
   "cell_type": "markdown",
   "metadata": {},
   "source": [
    "#### Building a model"
   ]
  },
  {
   "cell_type": "code",
   "execution_count": 111,
   "metadata": {},
   "outputs": [],
   "source": [
    "model = Sequential()\n",
    "\n",
    "model.add(Conv2D(50, (5, 5), input_shape = (64, 64,3), activation = 'relu'))\n",
    "model.add(MaxPooling2D(pool_size = (2, 2)))\n",
    "\n",
    "\n",
    "model.add(Conv2D(100, (5, 5), activation = 'relu'))\n",
    "model.add(MaxPooling2D(pool_size = (2, 2)))\n",
    "\n",
    "model.add(Conv2D(100, (5, 5), activation = 'relu'))\n",
    "\n",
    "model.add(Flatten())\n",
    "\n",
    "\n",
    "model.add(Dense(units = 128, activation = 'relu'))\n",
    "model.add(Dense(units = 3, activation = 'sigmoid'))\n",
    "\n",
    "# Compile model\n",
    "model.compile(optimizer = 'adam', loss = 'categorical_crossentropy', metrics = ['accuracy'])"
   ]
  },
  {
   "cell_type": "code",
   "execution_count": 123,
   "metadata": {},
   "outputs": [
    {
     "name": "stdout",
     "output_type": "stream",
     "text": [
      "Model: \"sequential_1\"\n",
      "_________________________________________________________________\n",
      "Layer (type)                 Output Shape              Param #   \n",
      "=================================================================\n",
      "conv2d_1 (Conv2D)            (None, 60, 60, 50)        3800      \n",
      "_________________________________________________________________\n",
      "max_pooling2d_1 (MaxPooling2 (None, 30, 30, 50)        0         \n",
      "_________________________________________________________________\n",
      "conv2d_2 (Conv2D)            (None, 26, 26, 100)       125100    \n",
      "_________________________________________________________________\n",
      "max_pooling2d_2 (MaxPooling2 (None, 13, 13, 100)       0         \n",
      "_________________________________________________________________\n",
      "conv2d_3 (Conv2D)            (None, 9, 9, 100)         250100    \n",
      "_________________________________________________________________\n",
      "flatten_1 (Flatten)          (None, 8100)              0         \n",
      "_________________________________________________________________\n",
      "dense_1 (Dense)              (None, 128)               1036928   \n",
      "_________________________________________________________________\n",
      "dense_2 (Dense)              (None, 3)                 387       \n",
      "=================================================================\n",
      "Total params: 1,416,315\n",
      "Trainable params: 1,416,315\n",
      "Non-trainable params: 0\n",
      "_________________________________________________________________\n"
     ]
    }
   ],
   "source": [
    "model.summary()"
   ]
  },
  {
   "cell_type": "code",
   "execution_count": 122,
   "metadata": {},
   "outputs": [
    {
     "name": "stderr",
     "output_type": "stream",
     "text": [
      "C:\\Users\\gaura\\Anaconda3\\lib\\site-packages\\ipykernel_launcher.py:7: UserWarning: The `nb_epoch` argument in `fit` has been renamed `epochs`.\n",
      "  import sys\n"
     ]
    },
    {
     "name": "stdout",
     "output_type": "stream",
     "text": [
      "Epoch 1/30\n",
      "19906/19906 [==============================] - 118s 6ms/step - loss: 0.9453 - accuracy: 0.5318\n",
      "Epoch 2/30\n",
      "19906/19906 [==============================] - 133s 7ms/step - loss: 0.8674 - accuracy: 0.5428\n",
      "Epoch 3/30\n",
      "19906/19906 [==============================] - 132s 7ms/step - loss: 0.8482 - accuracy: 0.5507\n",
      "Epoch 4/30\n",
      "19906/19906 [==============================] - 134s 7ms/step - loss: 0.7732 - accuracy: 0.6531\n",
      "Epoch 5/30\n",
      "19906/19906 [==============================] - 134s 7ms/step - loss: 0.7107 - accuracy: 0.6829\n",
      "Epoch 6/30\n",
      "19906/19906 [==============================] - 140s 7ms/step - loss: 0.6824 - accuracy: 0.6952\n",
      "Epoch 7/30\n",
      "19906/19906 [==============================] - 136s 7ms/step - loss: 0.6496 - accuracy: 0.7100\n",
      "Epoch 8/30\n",
      "19906/19906 [==============================] - 138s 7ms/step - loss: 0.6054 - accuracy: 0.7348\n",
      "Epoch 9/30\n",
      "19906/19906 [==============================] - 146s 7ms/step - loss: 0.5799 - accuracy: 0.7499\n",
      "Epoch 10/30\n",
      "19906/19906 [==============================] - 138s 7ms/step - loss: 0.5454 - accuracy: 0.7681\n",
      "Epoch 11/30\n",
      "19906/19906 [==============================] - 140s 7ms/step - loss: 0.5252 - accuracy: 0.7781\n",
      "Epoch 12/30\n",
      "19906/19906 [==============================] - 140s 7ms/step - loss: 0.4887 - accuracy: 0.7979\n",
      "Epoch 13/30\n",
      "19906/19906 [==============================] - 142s 7ms/step - loss: 0.4585 - accuracy: 0.8079\n",
      "Epoch 14/30\n",
      "19906/19906 [==============================] - 137s 7ms/step - loss: 0.4369 - accuracy: 0.8204\n",
      "Epoch 15/30\n",
      "19906/19906 [==============================] - 145s 7ms/step - loss: 0.4028 - accuracy: 0.8372\n",
      "Epoch 16/30\n",
      "19906/19906 [==============================] - 133s 7ms/step - loss: 0.3823 - accuracy: 0.8452\n",
      "Epoch 17/30\n",
      "19906/19906 [==============================] - 137s 7ms/step - loss: 0.3616 - accuracy: 0.8524\n",
      "Epoch 18/30\n",
      "19906/19906 [==============================] - 140s 7ms/step - loss: 0.3220 - accuracy: 0.8735\n",
      "Epoch 19/30\n",
      "19906/19906 [==============================] - 141s 7ms/step - loss: 0.3002 - accuracy: 0.8825\n",
      "Epoch 20/30\n",
      "19906/19906 [==============================] - 140s 7ms/step - loss: 0.2683 - accuracy: 0.8962\n",
      "Epoch 21/30\n",
      "19906/19906 [==============================] - 141s 7ms/step - loss: 0.2413 - accuracy: 0.9049\n",
      "Epoch 22/30\n",
      "19906/19906 [==============================] - 143s 7ms/step - loss: 0.2200 - accuracy: 0.9151\n",
      "Epoch 23/30\n",
      "19906/19906 [==============================] - 140s 7ms/step - loss: 0.1891 - accuracy: 0.9284\n",
      "Epoch 24/30\n",
      "19906/19906 [==============================] - 146s 7ms/step - loss: 0.1825 - accuracy: 0.9301\n",
      "Epoch 25/30\n",
      "19906/19906 [==============================] - 142s 7ms/step - loss: 0.1654 - accuracy: 0.9355\n",
      "Epoch 26/30\n",
      "19906/19906 [==============================] - 144s 7ms/step - loss: 0.1397 - accuracy: 0.9472\n",
      "Epoch 27/30\n",
      "19906/19906 [==============================] - 138s 7ms/step - loss: 0.1343 - accuracy: 0.9484\n",
      "Epoch 28/30\n",
      "19906/19906 [==============================] - 139s 7ms/step - loss: 0.1029 - accuracy: 0.9607\n",
      "Epoch 29/30\n",
      "19906/19906 [==============================] - 134s 7ms/step - loss: 0.0937 - accuracy: 0.9656\n",
      "Epoch 30/30\n",
      "19906/19906 [==============================] - 137s 7ms/step - loss: 0.0986 - accuracy: 0.9622\n"
     ]
    },
    {
     "data": {
      "text/plain": [
       "<keras.callbacks.callbacks.History at 0x185293a6288>"
      ]
     },
     "execution_count": 122,
     "metadata": {},
     "output_type": "execute_result"
    }
   ],
   "source": [
    "epochs=30\n",
    "batch_size = 512\n",
    "model.fit( train_x, train_y, nb_epoch=epochs, batch_size=batch_size)"
   ]
  },
  {
   "cell_type": "markdown",
   "metadata": {},
   "source": [
    "Making predictions on test set"
   ]
  },
  {
   "cell_type": "code",
   "execution_count": 127,
   "metadata": {},
   "outputs": [],
   "source": [
    "predictions = model.predict(test_x)\n",
    "predictions = np.argmax(predictions, axis= 1)"
   ]
  },
  {
   "cell_type": "code",
   "execution_count": 128,
   "metadata": {},
   "outputs": [],
   "source": [
    "# Converting predicted category numbers to predicted labels\n",
    "unique_labels = np.unique(train['Class'].tolist())\n",
    "pred_labels = unique_labels[predictions]"
   ]
  },
  {
   "cell_type": "code",
   "execution_count": 137,
   "metadata": {},
   "outputs": [
    {
     "data": {
      "text/plain": [
       "<matplotlib.image.AxesImage at 0x185299f5f08>"
      ]
     },
     "execution_count": 137,
     "metadata": {},
     "output_type": "execute_result"
    },
    {
     "data": {
      "image/png": "[encoded data removed]",
      "text/plain": [
       "<Figure size 432x288 with 1 Axes>"
      ]
     },
     "metadata": {
      "needs_background": "light"
     },
     "output_type": "display_data"
    }
   ],
   "source": [
    "## Let's see what our classifier predicts on test images\n",
    "# Random predictions\n",
    "i = np.random.choice(np.arange(len(test_data)))\n",
    "plt.title('{} - Predicted class : {}'.format(test['ID'].values[i], pred_labels[i]))\n",
    "plt.imshow(test_data[i])"
   ]
  },
  {
   "cell_type": "code",
   "execution_count": null,
   "metadata": {},
   "outputs": [],
   "source": []
  }
 ],
 "metadata": {
  "kernelspec": {
   "display_name": "Python 3",
   "language": "python",
   "name": "python3"
  },
  "language_info": {
   "codemirror_mode": {
    "name": "ipython",
    "version": 3
   },
   "file_extension": ".py",
   "mimetype": "text/x-python",
   "name": "python",
   "nbconvert_exporter": "python",
   "pygments_lexer": "ipython3",
   "version": "3.7.7"
  }
 },
 "nbformat": 4,
 "nbformat_minor": 4
}
